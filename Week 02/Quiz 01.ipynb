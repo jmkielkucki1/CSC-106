{
 "cells": [
  {
   "cell_type": "markdown",
   "id": "506f0ac3",
   "metadata": {},
   "source": [
    "# Question 1"
   ]
  },
  {
   "cell_type": "raw",
   "id": "82434fc5",
   "metadata": {},
   "source": [
    "1. What is the output of the individual cells. (1 point each)\n",
    "\n",
    "2. If there is an error on any of the cells, report the error. (1 point each)\n",
    "\n",
    "3. Propose a fix for the error. (1 point each)"
   ]
  },
  {
   "cell_type": "markdown",
   "id": "e554ce59",
   "metadata": {},
   "source": [
    "# Cell 1"
   ]
  },
  {
   "cell_type": "code",
   "execution_count": 2,
   "id": "caca4a35",
   "metadata": {},
   "outputs": [
    {
     "name": "stdout",
     "output_type": "stream",
     "text": [
      "Hallo Class\n"
     ]
    }
   ],
   "source": [
    "print(Hallo Class\")"
   ]
  },
  {
   "cell_type": "code",
   "execution_count": null,
   "id": "e799d9b2",
   "metadata": {},
   "outputs": [],
   "source": [
    "print(\"Hello Class\")"
   ]
  },
  {
   "cell_type": "markdown",
   "id": "4b98c84e",
   "metadata": {},
   "source": [
    "# Cell 2"
   ]
  },
  {
   "cell_type": "code",
   "execution_count": 3,
   "id": "383f18fa",
   "metadata": {},
   "outputs": [
    {
     "name": "stdout",
     "output_type": "stream",
     "text": [
      "Hallo Class\n"
     ]
    }
   ],
   "source": [
    "print(\"Hallo Class)"
   ]
  },
  {
   "cell_type": "code",
   "execution_count": null,
   "id": "f60a1b4d",
   "metadata": {},
   "outputs": [],
   "source": [
    "print(\"Hello Class\")"
   ]
  },
  {
   "cell_type": "markdown",
   "id": "c040dc2c",
   "metadata": {},
   "source": [
    "# Cell 3"
   ]
  },
  {
   "cell_type": "code",
   "execution_count": 4,
   "id": "a850057b",
   "metadata": {},
   "outputs": [
    {
     "name": "stdout",
     "output_type": "stream",
     "text": [
      "Helo Class\n"
     ]
    }
   ],
   "source": [
    " print(\"Helo Class\")"
   ]
  },
  {
   "cell_type": "markdown",
   "id": "2090de0d",
   "metadata": {},
   "source": [
    "# Cell 4"
   ]
  },
  {
   "cell_type": "code",
   "execution_count": 6,
   "id": "28cd5a9b",
   "metadata": {},
   "outputs": [
    {
     "name": "stdout",
     "output_type": "stream",
     "text": [
      "Hallo Class\n"
     ]
    }
   ],
   "source": [
    "print('Hallo Class')"
   ]
  },
  {
   "cell_type": "markdown",
   "id": "ef5ea310",
   "metadata": {},
   "source": [
    "# Cell 5"
   ]
  },
  {
   "cell_type": "code",
   "execution_count": 7,
   "id": "b236a871",
   "metadata": {},
   "outputs": [
    {
     "name": "stdout",
     "output_type": "stream",
     "text": [
      "Hallo Class\n"
     ]
    }
   ],
   "source": [
    "print('Hallo Class')"
   ]
  },
  {
   "cell_type": "markdown",
   "id": "63023288",
   "metadata": {},
   "source": [
    "# Cell 6"
   ]
  },
  {
   "cell_type": "code",
   "execution_count": 8,
   "id": "31414cf4",
   "metadata": {},
   "outputs": [
    {
     "name": "stdout",
     "output_type": "stream",
     "text": [
      "Hello Clas\n"
     ]
    }
   ],
   "source": [
    "print('Hello Clas')"
   ]
  },
  {
   "cell_type": "markdown",
   "id": "31d2359f",
   "metadata": {},
   "source": [
    "# Cell 7"
   ]
  },
  {
   "cell_type": "code",
   "execution_count": 9,
   "id": "a3becf0e",
   "metadata": {},
   "outputs": [
    {
     "name": "stdout",
     "output_type": "stream",
     "text": [
      "Hello Class\n"
     ]
    }
   ],
   "source": [
    "print(\"Hello Class\")"
   ]
  },
  {
   "cell_type": "markdown",
   "id": "7de65a64",
   "metadata": {},
   "source": [
    "# Cell 8"
   ]
  },
  {
   "cell_type": "code",
   "execution_count": 11,
   "id": "b6030c30",
   "metadata": {},
   "outputs": [
    {
     "name": "stdout",
     "output_type": "stream",
     "text": [
      "Hello Class\n"
     ]
    }
   ],
   "source": [
    "print(\"Hello Class\")"
   ]
  },
  {
   "cell_type": "markdown",
   "id": "c7e075b6",
   "metadata": {},
   "source": [
    "# Cell 9"
   ]
  },
  {
   "cell_type": "code",
   "execution_count": 12,
   "id": "5c8ce120",
   "metadata": {},
   "outputs": [
    {
     "name": "stdout",
     "output_type": "stream",
     "text": [
      "Hello' Class\n"
     ]
    }
   ],
   "source": [
    "print(\"Hello Class\")"
   ]
  },
  {
   "cell_type": "markdown",
   "id": "3d7e2326",
   "metadata": {},
   "source": [
    "# Cell 10"
   ]
  },
  {
   "cell_type": "code",
   "execution_count": 14,
   "id": "e22bb736",
   "metadata": {},
   "outputs": [
    {
     "name": "stdout",
     "output_type": "stream",
     "text": [
      "Hello Class\n"
     ]
    }
   ],
   "source": [
    "print('Hello Class')"
   ]
  },
  {
   "cell_type": "code",
   "execution_count": null,
   "id": "77f45c12",
   "metadata": {},
   "outputs": [],
   "source": []
  }
 ],
 "metadata": {
  "kernelspec": {
   "display_name": "Python 3 (ipykernel)",
   "language": "python",
   "name": "python3"
  },
  "language_info": {
   "codemirror_mode": {
    "name": "ipython",
    "version": 3
   },
   "file_extension": ".py",
   "mimetype": "text/x-python",
   "name": "python",
   "nbconvert_exporter": "python",
   "pygments_lexer": "ipython3",
   "version": "3.12.3"
  }
 },
 "nbformat": 4,
 "nbformat_minor": 5
}
